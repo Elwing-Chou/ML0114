{
 "cells": [
  {
   "cell_type": "code",
   "execution_count": null,
   "metadata": {},
   "outputs": [],
   "source": [
    "import glob\n",
    "import pandas as pd\n",
    "df = pd.DataFrame(columns=[\"content\", \"sentiment\"])\n",
    "for fn in glob.glob(\"data/aclImdb/train/pos/*.txt\"):\n",
    "    f = open(fn, \"r\", encoding=\"utf-8\")\n",
    "    content = f.read()\n",
    "    f.close()\n",
    "    s = pd.Series([content, 1], index=[\"content\", \"sentiment\"])\n",
    "    df = df.append(s, ignore_index=True)\n",
    "for fn in glob.glob(\"data/aclImdb/train/neg/*.txt\"):\n",
    "    f = open(fn, \"r\", encoding=\"utf-8\")\n",
    "    content = f.read()\n",
    "    f.close()\n",
    "    s = pd.Series([content, 0], index=[\"content\", \"sentiment\"])\n",
    "    df = df.append(s, ignore_index=True)\n",
    "df"
   ]
  },
  {
   "cell_type": "code",
   "execution_count": null,
   "metadata": {},
   "outputs": [],
   "source": [
    "testdf = pd.DataFrame(columns=[\"content\", \"sentiment\"])\n",
    "for fn in glob.glob(\"data/aclImdb/test/pos/*.txt\"):\n",
    "    f = open(fn, \"r\", encoding=\"utf-8\")\n",
    "    content = f.read()\n",
    "    f.close()\n",
    "    s = pd.Series([content, 1], index=[\"content\", \"sentiment\"])\n",
    "    testdf = testdf.append(s, ignore_index=True)\n",
    "for fn in glob.glob(\"data/aclImdb/test/neg/*.txt\"):\n",
    "    f = open(fn, \"r\", encoding=\"utf-8\")\n",
    "    content = f.read()\n",
    "    f.close()\n",
    "    s = pd.Series([content, 0], index=[\"content\", \"sentiment\"])\n",
    "    df = df.append(s, ignore_index=True)\n",
    "df"
   ]
  }
 ],
 "metadata": {
  "kernelspec": {
   "display_name": "py36default",
   "language": "python",
   "name": "py36default"
  },
  "language_info": {
   "codemirror_mode": {
    "name": "ipython",
    "version": 3
   },
   "file_extension": ".py",
   "mimetype": "text/x-python",
   "name": "python",
   "nbconvert_exporter": "python",
   "pygments_lexer": "ipython3",
   "version": "3.6.0"
  }
 },
 "nbformat": 4,
 "nbformat_minor": 2
}
